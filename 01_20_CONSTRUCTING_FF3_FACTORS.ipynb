{
  "nbformat": 4,
  "nbformat_minor": 0,
  "metadata": {
    "colab": {
      "provenance": [],
      "authorship_tag": "ABX9TyOfWT6VWq34LEcd9xnercvm",
      "include_colab_link": true
    },
    "kernelspec": {
      "name": "python3",
      "display_name": "Python 3"
    },
    "language_info": {
      "name": "python"
    }
  },
  "cells": [
    {
      "cell_type": "markdown",
      "metadata": {
        "id": "view-in-github",
        "colab_type": "text"
      },
      "source": [
        "<a href=\"https://colab.research.google.com/github/shantanu2383/FAMA-FRENCH-5-FACTORS-ST-REVERSAL-LT-REVERSAL-MOMENTUM/blob/main/01_20_CONSTRUCTING_FF3_FACTORS.ipynb\" target=\"_parent\"><img src=\"https://colab.research.google.com/assets/colab-badge.svg\" alt=\"Open In Colab\"/></a>"
      ]
    },
    {
      "cell_type": "markdown",
      "source": [
        "# CONSTRUCT FF3 FROM CLEANED PRICE AND FUNDAMENTALS DATA AND COMPARE TO FAMA FRENCH DAILY 3 FACTORS"
      ],
      "metadata": {
        "id": "dtC0r7T4zK8m"
      }
    },
    {
      "cell_type": "code",
      "source": [
        "import pandas as pd\n",
        "import statsmodels.formula.api as smf \n",
        "import numpy as np \n",
        "import matplotlib.pyplot as plt\n",
        "\n",
        "!pip install pandasql\n",
        "import os\n",
        "from datetime import datetime\n",
        "from sklearn.model_selection import train_test_split\n",
        "from statsmodels.tsa.stattools import adfuller\n",
        "from statsmodels.tsa.seasonal import seasonal_decompose\n",
        "from statsmodels.tsa.arima_model import ARIMA \n",
        "from sklearn.metrics import mean_squared_error, mean_absolute_error \n",
        "\n",
        "import math\n",
        "import matplotlib.pyplot as plt \n",
        "from datetime import datetime\n",
        "import seaborn as sns \n",
        "import pandasql as ps\n",
        "\n",
        "from sqlite3 import connect\n",
        "conn=connect(':memory:')\n",
        "\n",
        "from google.colab import drive\n",
        "drive.mount(\"/content/gdrive\", force_remount=True)"
      ],
      "metadata": {
        "colab": {
          "base_uri": "https://localhost:8080/"
        },
        "id": "441UAoC-zRwx",
        "outputId": "28373216-54ff-4d50-f3da-a1375f304976"
      },
      "execution_count": null,
      "outputs": [
        {
          "output_type": "stream",
          "name": "stdout",
          "text": [
            "Looking in indexes: https://pypi.org/simple, https://us-python.pkg.dev/colab-wheels/public/simple/\n",
            "Collecting pandasql\n",
            "  Downloading pandasql-0.7.3.tar.gz (26 kB)\n",
            "  Preparing metadata (setup.py) ... \u001b[?25l\u001b[?25hdone\n",
            "Requirement already satisfied: numpy in /usr/local/lib/python3.8/dist-packages (from pandasql) (1.21.6)\n",
            "Requirement already satisfied: pandas in /usr/local/lib/python3.8/dist-packages (from pandasql) (1.3.5)\n",
            "Requirement already satisfied: sqlalchemy in /usr/local/lib/python3.8/dist-packages (from pandasql) (1.4.46)\n",
            "Requirement already satisfied: python-dateutil>=2.7.3 in /usr/local/lib/python3.8/dist-packages (from pandas->pandasql) (2.8.2)\n",
            "Requirement already satisfied: pytz>=2017.3 in /usr/local/lib/python3.8/dist-packages (from pandas->pandasql) (2022.7)\n",
            "Requirement already satisfied: greenlet!=0.4.17 in /usr/local/lib/python3.8/dist-packages (from sqlalchemy->pandasql) (2.0.1)\n",
            "Requirement already satisfied: six>=1.5 in /usr/local/lib/python3.8/dist-packages (from python-dateutil>=2.7.3->pandas->pandasql) (1.15.0)\n",
            "Building wheels for collected packages: pandasql\n",
            "  Building wheel for pandasql (setup.py) ... \u001b[?25l\u001b[?25hdone\n",
            "  Created wheel for pandasql: filename=pandasql-0.7.3-py3-none-any.whl size=26787 sha256=18da601c1325f497cb5c710ecf5017b53b4703615bede13b067658fc03b4c3c4\n",
            "  Stored in directory: /root/.cache/pip/wheels/ed/8f/46/a383923333728744f01ba24adbd8e364f2cb9470a8b8e5b9ff\n",
            "Successfully built pandasql\n",
            "Installing collected packages: pandasql\n",
            "Successfully installed pandasql-0.7.3\n",
            "Mounted at /content/gdrive\n"
          ]
        }
      ]
    },
    {
      "cell_type": "markdown",
      "source": [
        "# IMPORT CLEANED DATAFRAME FROM DATA CLEANING NOTEBOOK WITH VALUE AND SIZE PORTFOL"
      ],
      "metadata": {
        "id": "80kirF4AzVuO"
      }
    },
    {
      "cell_type": "code",
      "source": [
        "filepath=\"/content/gdrive/MyDrive/FIMA_2023_JANUARY/V2/DATALOAD/RAW_DATA/\"\n",
        "\n",
        "main_stocks_df=pd.read_csv(filepath + \"pre sort: cleaned returns with size and value sorts\")"
      ],
      "metadata": {
        "id": "E1gbaSMyzUwh"
      },
      "execution_count": null,
      "outputs": []
    },
    {
      "cell_type": "code",
      "source": [
        "main_stocks_df.drop(columns=['Unnamed: 0', 'index', 'Unnamed: 0.1'], inplace=True)"
      ],
      "metadata": {
        "id": "dKLZBZ9oz9oZ"
      },
      "execution_count": null,
      "outputs": []
    },
    {
      "cell_type": "code",
      "source": [
        "main_stocks_df"
      ],
      "metadata": {
        "id": "AcozwvC00EI1"
      },
      "execution_count": null,
      "outputs": []
    },
    {
      "cell_type": "markdown",
      "source": [
        "# ADD MARKET CAP AT JUNE TO CALCULATE WEIGHTED RETURNS"
      ],
      "metadata": {
        "id": "_MSIzfkz0MRu"
      }
    },
    {
      "cell_type": "code",
      "source": [
        "main_stocks_df['date']=pd.to_datetime(main_stocks_df['date'], format=\"%Y-%m-%d\")\n",
        "stock_weights=main_stocks_df[main_stocks_df['date'].dt.month==6]\n",
        "\n",
        "stock_weights.to_sql('stock_weights', conn, if_exists='replace')\n",
        "\n",
        "query='''\n",
        "        SELECT DISTINCT ticker, quarter, mkt_cap, reference_date\n",
        "        FROM stock_weights\n",
        "        '''\n",
        "\n",
        "stock_weights=pd.read_sql(query, conn)\n",
        "\n",
        "#merge these weights back into main stocks df\n",
        "main_stocks_df['reference_date']=pd.to_datetime(main_stocks_df['reference_date'], format=\"%Y-%m-%d\")\n",
        "\n",
        "stock_weights['reference_date']=pd.to_datetime(stock_weights['reference_date'], format=\"%Y-%m-%d\")\n",
        "\n",
        "main_stocks_df.to_sql('main_stocks_df', conn, if_exists='replace')\n",
        "stock_weights.to_sql('stock_weights', conn, if_exists='replace')\n",
        "\n",
        "\n",
        "query='''\n",
        "        SELECT DISTINCT main_stocks_df.*, stock_weights.mkt_cap as mkt_cap_weight\n",
        "        FROM main_stocks_df\n",
        "        LEFT JOIN stock_weights\n",
        "        ON main_stocks_df.ticker=stock_weights.ticker AND main_stocks_df.reference_date=stock_weights.reference_date\n",
        "        '''\n",
        "\n",
        "main_stocks_df_weights=pd.read_sql(query, conn)\n",
        "\n",
        "main_stocks_df=main_stocks_df_weights"
      ],
      "metadata": {
        "id": "axRA5Mkk0UbZ"
      },
      "execution_count": null,
      "outputs": []
    },
    {
      "cell_type": "code",
      "source": [
        "main_stocks_df.to_csv(filepath + \"main_stocks_df_mktweights\")"
      ],
      "metadata": {
        "id": "mLdnp8V60nN3"
      },
      "execution_count": null,
      "outputs": []
    },
    {
      "cell_type": "markdown",
      "source": [
        "# PORTFOLIO CONSTRUCTION"
      ],
      "metadata": {
        "id": "1oMIZgOB0kX2"
      }
    },
    {
      "cell_type": "code",
      "source": [
        "main_stocks_df['date']=pd.to_datetime(main_stocks_df['date'])\n",
        "\n",
        "valueWeightRet=main_stocks_df.groupby(['date', 'size_portfolio', 'value_portfolio']).apply(lambda x: np.average(pd.to_numeric(x['ret']), weights=pd.to_numeric(x['mkt_cap_weight'])))\n",
        "\n",
        "#Create factors dataframe\n",
        "main_stocks_df.to_sql(\"main_stocks_df\", conn, if_exists='replace')\n",
        "\n",
        "query=''' \n",
        "        SELECT DISTINCT date\n",
        "        FROM main_stocks_df\n",
        "        '''\n",
        "factors=pd.read_sql(query, conn)\n",
        "factors['date']=pd.to_datetime(factors['date'])"
      ],
      "metadata": {
        "id": "aO5QSVH70had"
      },
      "execution_count": null,
      "outputs": []
    },
    {
      "cell_type": "code",
      "source": [
        "#Add in the three factors (SMB, HML, MKT)\n",
        "\n",
        "#Add SMB portfolios:\n",
        "factors['smb']=\"\"\n",
        "for i in factors.index:\n",
        "  dateofData=factors['date'][i]\n",
        "  factors['smb'][i]=np.average(valueWeightRet[dateofData][\"S\"])-np.average(valueWeightRet[dateofData][\"B\"])\n",
        "                                "
      ],
      "metadata": {
        "colab": {
          "base_uri": "https://localhost:8080/"
        },
        "id": "cBiJHWEo01Q6",
        "outputId": "17a0c9a6-3484-48f4-9ee6-d04b6df86192"
      },
      "execution_count": null,
      "outputs": [
        {
          "output_type": "stream",
          "name": "stderr",
          "text": [
            "<ipython-input-11-06eeb0b14857>:7: SettingWithCopyWarning: \n",
            "A value is trying to be set on a copy of a slice from a DataFrame\n",
            "\n",
            "See the caveats in the documentation: https://pandas.pydata.org/pandas-docs/stable/user_guide/indexing.html#returning-a-view-versus-a-copy\n",
            "  factors['smb'][i]=np.average(valueWeightRet[dateofData][\"S\"])-np.average(valueWeightRet[dateofData][\"B\"])\n"
          ]
        }
      ]
    },
    {
      "cell_type": "code",
      "source": [
        "#Change index of valueWeightedRet for HML\n",
        "\n",
        "valueWeightRet=main_stocks_df.groupby(['date', 'value_portfolio', 'size_portfolio']).apply(lambda x: np.average(pd.to_numeric(x['ret']), weights=pd.to_numeric(x['mkt_cap_weight'])))\n",
        "\n",
        "#Add HML portfolios\n",
        "factors['hml']=\"\"\n",
        "\n",
        "for i in factors.index:\n",
        "  dateofData=factors['date'][i]\n",
        "  factors['hml'][i]=np.average(valueWeightRet[dateofData][\"H\"])-np.average(valueWeightRet[dateofData][\"L\"])\n"
      ],
      "metadata": {
        "id": "sE8GLxdw051Y"
      },
      "execution_count": null,
      "outputs": []
    },
    {
      "cell_type": "code",
      "source": [
        "#Add mkt (monthly average returns) across all stocks\n",
        "\n",
        "factors['mkt']=\"\"\n",
        "main_stocks_df.dropna(inplace=True)\n",
        "weightedAvgMonthlyRet=main_stocks_df.groupby('date').apply(lambda x: np.average(pd.to_numeric(x.ret), weights=pd.to_numeric(x.mkt_cap_weight)))\n",
        "\n",
        "for i in factors.index:\n",
        "  dateofData=factors['date'][i]\n",
        "  factors['mkt'][i]=weightedAvgMonthlyRet[dateofData]"
      ],
      "metadata": {
        "id": "f31HtHSv08Me"
      },
      "execution_count": null,
      "outputs": []
    },
    {
      "cell_type": "code",
      "source": [
        "main_stocks_df=main_stocks_df.fillna(0)\n",
        "#Add mkt ( daily returns) across all stocks\n",
        "factors['mkt']=\"\"\n",
        "main_stocks_df.dropna(inplace=True)\n",
        "weighted_dailyRet=main_stocks_df.groupby('date').apply(lambda x: np.average(pd.to_numeric(x.ret), weights=pd.to_numeric(x.mkt_cap_weight)))\n",
        "\n",
        "for i in factors.index:\n",
        "  dateofData=factors['date'][i]\n",
        "  factors['mkt'][i]=weighted_dailyRet[dateofData]"
      ],
      "metadata": {
        "colab": {
          "base_uri": "https://localhost:8080/"
        },
        "id": "d43ldg0D0_8U",
        "outputId": "50577b79-cabe-4328-f352-8e7d82d30cf2"
      },
      "execution_count": null,
      "outputs": [
        {
          "output_type": "stream",
          "name": "stderr",
          "text": [
            "<ipython-input-14-8fb2179436e5>:9: SettingWithCopyWarning: \n",
            "A value is trying to be set on a copy of a slice from a DataFrame\n",
            "\n",
            "See the caveats in the documentation: https://pandas.pydata.org/pandas-docs/stable/user_guide/indexing.html#returning-a-view-versus-a-copy\n",
            "  factors['mkt'][i]=weighted_dailyRet[dateofData]\n"
          ]
        }
      ]
    },
    {
      "cell_type": "code",
      "source": [
        "factors"
      ],
      "metadata": {
        "id": "mb_z_9N21Khc"
      },
      "execution_count": null,
      "outputs": []
    },
    {
      "cell_type": "markdown",
      "source": [
        "# READ IN KENNETH FRENCH DATA FOR COMPARISON"
      ],
      "metadata": {
        "id": "XicZWt0k1UxA"
      }
    },
    {
      "cell_type": "code",
      "source": [
        "import pandas_datareader.data as web\n",
        "from pandas_datareader.famafrench import get_available_datasets\n",
        "datasets = get_available_datasets()\n",
        "df_3_factor=[dataset for dataset in datasets if 'Research' in dataset and 'Factor' in dataset]"
      ],
      "metadata": {
        "id": "Y3oHDxFo1snd"
      },
      "execution_count": null,
      "outputs": []
    },
    {
      "cell_type": "code",
      "source": [
        "df_3_factor\n",
        "ff=web.DataReader(df_3_factor[2],'famafrench',start='2018-07-01',end='2022-11-01')[0]\n",
        "ff['dd']=ff.index\n",
        "ff['dd']=pd.to_datetime(ff['dd'], format=\"%Y-%m-%d\")\n",
        "factors['date']=pd.to_datetime(factors['date'])\n",
        "ff=ff[ff['dd']>=\"2019-06-03\"]"
      ],
      "metadata": {
        "id": "0p1pao_W1uJu"
      },
      "execution_count": null,
      "outputs": []
    },
    {
      "cell_type": "code",
      "source": [],
      "metadata": {
        "id": "eRXvU5E01w9m"
      },
      "execution_count": null,
      "outputs": []
    },
    {
      "cell_type": "code",
      "source": [
        "ff=ff.rename(columns={'Mkt-RF': 'MKT'})"
      ],
      "metadata": {
        "id": "jAd9tszc1xAC"
      },
      "execution_count": null,
      "outputs": []
    },
    {
      "cell_type": "code",
      "source": [
        "ff.to_sql('ff', conn, if_exists='replace')\n",
        "\n",
        "query='''\n",
        "        SELECT DISTINCT dd as date, SMB as SMB_ff, HML as HML_ff, MKT as MKT_ff\n",
        "        FROM FF\n",
        "        '''\n",
        "ff=pd.read_sql(query, conn)"
      ],
      "metadata": {
        "id": "8cg7bu-q10g-"
      },
      "execution_count": null,
      "outputs": []
    },
    {
      "cell_type": "code",
      "source": [
        "ff['date']=pd.to_datetime(ff['date'], errors='coerce')\n",
        "\n",
        "x=[\"SMB_ff\", \"HML_ff\"]\n",
        "for x in x:\n",
        "  ff[x]=pd.to_numeric(ff[x], errors='coerce')\n",
        "\n",
        "y=['smb', 'hml']\n",
        "\n",
        "for y in y:\n",
        "  factors[y]=pd.to_numeric(factors[y], errors='coerce')"
      ],
      "metadata": {
        "id": "0WkcGpPq13zq"
      },
      "execution_count": null,
      "outputs": []
    },
    {
      "cell_type": "code",
      "source": [
        "ff"
      ],
      "metadata": {
        "id": "wY9gqhNK15nD"
      },
      "execution_count": null,
      "outputs": []
    },
    {
      "cell_type": "code",
      "source": [
        "factors.to_sql('factors', conn, if_exists='replace')\n",
        "ff.to_sql('ff', conn, if_exists='replace')\n",
        "\n",
        "query='''\n",
        "        SELECT factors.date, factors.smb, factors.hml, factors.mkt, FF.SMB_ff, FF.HML_ff, FF.MKT_ff\n",
        "        FROM factors\n",
        "        LEFT JOIN ff\n",
        "        ON factors.date=ff.date\n",
        "        '''\n",
        "\n",
        "ff_checker=pd.read_sql(query, conn)"
      ],
      "metadata": {
        "id": "4CdLx5fO2CJx"
      },
      "execution_count": null,
      "outputs": []
    },
    {
      "cell_type": "code",
      "source": [
        "ff_checker"
      ],
      "metadata": {
        "colab": {
          "base_uri": "https://localhost:8080/",
          "height": 468
        },
        "id": "TZTlDor92Dl7",
        "outputId": "06b67ac8-a1c2-42c8-9410-c3ddc7b15c0c"
      },
      "execution_count": null,
      "outputs": [
        {
          "output_type": "execute_result",
          "data": {
            "text/plain": [
              "                    date       smb       hml       mkt  SMB_ff  HML_ff  MKT_ff\n",
              "0    2019-06-03 00:00:00  0.468934  2.311182 -0.773308    0.35    1.65   -0.40\n",
              "1    2019-06-04 00:00:00  0.652171 -0.201773  2.276816    0.42   -0.02    2.33\n",
              "2    2019-06-05 00:00:00 -0.895664 -1.247382  0.608100   -0.98   -0.97    0.70\n",
              "3    2019-06-06 00:00:00 -1.227373  0.155641  0.574624   -1.04    0.01    0.55\n",
              "4    2019-06-07 00:00:00 -0.005720 -0.880596  1.447050    0.05   -1.20    1.04\n",
              "..                   ...       ...       ...       ...     ...     ...     ...\n",
              "897  2022-12-21 00:00:00  0.034963  0.043678  1.374257     NaN     NaN     NaN\n",
              "898  2022-12-22 00:00:00  0.225827  0.499582 -1.784820     NaN     NaN     NaN\n",
              "899  2022-12-23 00:00:00  0.155313  2.584804  0.498839     NaN     NaN     NaN\n",
              "900  2022-12-27 00:00:00 -0.813249  1.879353 -1.054648     NaN     NaN     NaN\n",
              "901  2022-12-28 00:00:00  0.382752 -0.943865 -1.224933     NaN     NaN     NaN\n",
              "\n",
              "[902 rows x 7 columns]"
            ],
            "text/html": [
              "\n",
              "  <div id=\"df-2c6ce57d-4336-4626-a8e2-f9314d866c09\">\n",
              "    <div class=\"colab-df-container\">\n",
              "      <div>\n",
              "<style scoped>\n",
              "    .dataframe tbody tr th:only-of-type {\n",
              "        vertical-align: middle;\n",
              "    }\n",
              "\n",
              "    .dataframe tbody tr th {\n",
              "        vertical-align: top;\n",
              "    }\n",
              "\n",
              "    .dataframe thead th {\n",
              "        text-align: right;\n",
              "    }\n",
              "</style>\n",
              "<table border=\"1\" class=\"dataframe\">\n",
              "  <thead>\n",
              "    <tr style=\"text-align: right;\">\n",
              "      <th></th>\n",
              "      <th>date</th>\n",
              "      <th>smb</th>\n",
              "      <th>hml</th>\n",
              "      <th>mkt</th>\n",
              "      <th>SMB_ff</th>\n",
              "      <th>HML_ff</th>\n",
              "      <th>MKT_ff</th>\n",
              "    </tr>\n",
              "  </thead>\n",
              "  <tbody>\n",
              "    <tr>\n",
              "      <th>0</th>\n",
              "      <td>2019-06-03 00:00:00</td>\n",
              "      <td>0.468934</td>\n",
              "      <td>2.311182</td>\n",
              "      <td>-0.773308</td>\n",
              "      <td>0.35</td>\n",
              "      <td>1.65</td>\n",
              "      <td>-0.40</td>\n",
              "    </tr>\n",
              "    <tr>\n",
              "      <th>1</th>\n",
              "      <td>2019-06-04 00:00:00</td>\n",
              "      <td>0.652171</td>\n",
              "      <td>-0.201773</td>\n",
              "      <td>2.276816</td>\n",
              "      <td>0.42</td>\n",
              "      <td>-0.02</td>\n",
              "      <td>2.33</td>\n",
              "    </tr>\n",
              "    <tr>\n",
              "      <th>2</th>\n",
              "      <td>2019-06-05 00:00:00</td>\n",
              "      <td>-0.895664</td>\n",
              "      <td>-1.247382</td>\n",
              "      <td>0.608100</td>\n",
              "      <td>-0.98</td>\n",
              "      <td>-0.97</td>\n",
              "      <td>0.70</td>\n",
              "    </tr>\n",
              "    <tr>\n",
              "      <th>3</th>\n",
              "      <td>2019-06-06 00:00:00</td>\n",
              "      <td>-1.227373</td>\n",
              "      <td>0.155641</td>\n",
              "      <td>0.574624</td>\n",
              "      <td>-1.04</td>\n",
              "      <td>0.01</td>\n",
              "      <td>0.55</td>\n",
              "    </tr>\n",
              "    <tr>\n",
              "      <th>4</th>\n",
              "      <td>2019-06-07 00:00:00</td>\n",
              "      <td>-0.005720</td>\n",
              "      <td>-0.880596</td>\n",
              "      <td>1.447050</td>\n",
              "      <td>0.05</td>\n",
              "      <td>-1.20</td>\n",
              "      <td>1.04</td>\n",
              "    </tr>\n",
              "    <tr>\n",
              "      <th>...</th>\n",
              "      <td>...</td>\n",
              "      <td>...</td>\n",
              "      <td>...</td>\n",
              "      <td>...</td>\n",
              "      <td>...</td>\n",
              "      <td>...</td>\n",
              "      <td>...</td>\n",
              "    </tr>\n",
              "    <tr>\n",
              "      <th>897</th>\n",
              "      <td>2022-12-21 00:00:00</td>\n",
              "      <td>0.034963</td>\n",
              "      <td>0.043678</td>\n",
              "      <td>1.374257</td>\n",
              "      <td>NaN</td>\n",
              "      <td>NaN</td>\n",
              "      <td>NaN</td>\n",
              "    </tr>\n",
              "    <tr>\n",
              "      <th>898</th>\n",
              "      <td>2022-12-22 00:00:00</td>\n",
              "      <td>0.225827</td>\n",
              "      <td>0.499582</td>\n",
              "      <td>-1.784820</td>\n",
              "      <td>NaN</td>\n",
              "      <td>NaN</td>\n",
              "      <td>NaN</td>\n",
              "    </tr>\n",
              "    <tr>\n",
              "      <th>899</th>\n",
              "      <td>2022-12-23 00:00:00</td>\n",
              "      <td>0.155313</td>\n",
              "      <td>2.584804</td>\n",
              "      <td>0.498839</td>\n",
              "      <td>NaN</td>\n",
              "      <td>NaN</td>\n",
              "      <td>NaN</td>\n",
              "    </tr>\n",
              "    <tr>\n",
              "      <th>900</th>\n",
              "      <td>2022-12-27 00:00:00</td>\n",
              "      <td>-0.813249</td>\n",
              "      <td>1.879353</td>\n",
              "      <td>-1.054648</td>\n",
              "      <td>NaN</td>\n",
              "      <td>NaN</td>\n",
              "      <td>NaN</td>\n",
              "    </tr>\n",
              "    <tr>\n",
              "      <th>901</th>\n",
              "      <td>2022-12-28 00:00:00</td>\n",
              "      <td>0.382752</td>\n",
              "      <td>-0.943865</td>\n",
              "      <td>-1.224933</td>\n",
              "      <td>NaN</td>\n",
              "      <td>NaN</td>\n",
              "      <td>NaN</td>\n",
              "    </tr>\n",
              "  </tbody>\n",
              "</table>\n",
              "<p>902 rows × 7 columns</p>\n",
              "</div>\n",
              "      <button class=\"colab-df-convert\" onclick=\"convertToInteractive('df-2c6ce57d-4336-4626-a8e2-f9314d866c09')\"\n",
              "              title=\"Convert this dataframe to an interactive table.\"\n",
              "              style=\"display:none;\">\n",
              "        \n",
              "  <svg xmlns=\"http://www.w3.org/2000/svg\" height=\"24px\"viewBox=\"0 0 24 24\"\n",
              "       width=\"24px\">\n",
              "    <path d=\"M0 0h24v24H0V0z\" fill=\"none\"/>\n",
              "    <path d=\"M18.56 5.44l.94 2.06.94-2.06 2.06-.94-2.06-.94-.94-2.06-.94 2.06-2.06.94zm-11 1L8.5 8.5l.94-2.06 2.06-.94-2.06-.94L8.5 2.5l-.94 2.06-2.06.94zm10 10l.94 2.06.94-2.06 2.06-.94-2.06-.94-.94-2.06-.94 2.06-2.06.94z\"/><path d=\"M17.41 7.96l-1.37-1.37c-.4-.4-.92-.59-1.43-.59-.52 0-1.04.2-1.43.59L10.3 9.45l-7.72 7.72c-.78.78-.78 2.05 0 2.83L4 21.41c.39.39.9.59 1.41.59.51 0 1.02-.2 1.41-.59l7.78-7.78 2.81-2.81c.8-.78.8-2.07 0-2.86zM5.41 20L4 18.59l7.72-7.72 1.47 1.35L5.41 20z\"/>\n",
              "  </svg>\n",
              "      </button>\n",
              "      \n",
              "  <style>\n",
              "    .colab-df-container {\n",
              "      display:flex;\n",
              "      flex-wrap:wrap;\n",
              "      gap: 12px;\n",
              "    }\n",
              "\n",
              "    .colab-df-convert {\n",
              "      background-color: #E8F0FE;\n",
              "      border: none;\n",
              "      border-radius: 50%;\n",
              "      cursor: pointer;\n",
              "      display: none;\n",
              "      fill: #1967D2;\n",
              "      height: 32px;\n",
              "      padding: 0 0 0 0;\n",
              "      width: 32px;\n",
              "    }\n",
              "\n",
              "    .colab-df-convert:hover {\n",
              "      background-color: #E2EBFA;\n",
              "      box-shadow: 0px 1px 2px rgba(60, 64, 67, 0.3), 0px 1px 3px 1px rgba(60, 64, 67, 0.15);\n",
              "      fill: #174EA6;\n",
              "    }\n",
              "\n",
              "    [theme=dark] .colab-df-convert {\n",
              "      background-color: #3B4455;\n",
              "      fill: #D2E3FC;\n",
              "    }\n",
              "\n",
              "    [theme=dark] .colab-df-convert:hover {\n",
              "      background-color: #434B5C;\n",
              "      box-shadow: 0px 1px 3px 1px rgba(0, 0, 0, 0.15);\n",
              "      filter: drop-shadow(0px 1px 2px rgba(0, 0, 0, 0.3));\n",
              "      fill: #FFFFFF;\n",
              "    }\n",
              "  </style>\n",
              "\n",
              "      <script>\n",
              "        const buttonEl =\n",
              "          document.querySelector('#df-2c6ce57d-4336-4626-a8e2-f9314d866c09 button.colab-df-convert');\n",
              "        buttonEl.style.display =\n",
              "          google.colab.kernel.accessAllowed ? 'block' : 'none';\n",
              "\n",
              "        async function convertToInteractive(key) {\n",
              "          const element = document.querySelector('#df-2c6ce57d-4336-4626-a8e2-f9314d866c09');\n",
              "          const dataTable =\n",
              "            await google.colab.kernel.invokeFunction('convertToInteractive',\n",
              "                                                     [key], {});\n",
              "          if (!dataTable) return;\n",
              "\n",
              "          const docLinkHtml = 'Like what you see? Visit the ' +\n",
              "            '<a target=\"_blank\" href=https://colab.research.google.com/notebooks/data_table.ipynb>data table notebook</a>'\n",
              "            + ' to learn more about interactive tables.';\n",
              "          element.innerHTML = '';\n",
              "          dataTable['output_type'] = 'display_data';\n",
              "          await google.colab.output.renderOutput(dataTable, element);\n",
              "          const docLink = document.createElement('div');\n",
              "          docLink.innerHTML = docLinkHtml;\n",
              "          element.appendChild(docLink);\n",
              "        }\n",
              "      </script>\n",
              "    </div>\n",
              "  </div>\n",
              "  "
            ]
          },
          "metadata": {},
          "execution_count": 24
        }
      ]
    },
    {
      "cell_type": "code",
      "source": [
        "ff_checker.corr(method='pearson')"
      ],
      "metadata": {
        "id": "8DJItlxO2JCG",
        "outputId": "fece0e63-7a97-4188-c7dc-c5148381d610",
        "colab": {
          "base_uri": "https://localhost:8080/",
          "height": 238
        }
      },
      "execution_count": null,
      "outputs": [
        {
          "output_type": "execute_result",
          "data": {
            "text/plain": [
              "             smb       hml       mkt    SMB_ff    HML_ff    MKT_ff\n",
              "smb     1.000000  0.059217  0.288949  0.914253  0.071141  0.296438\n",
              "hml     0.059217  1.000000 -0.117748  0.072170  0.894678 -0.053778\n",
              "mkt     0.288949 -0.117748  1.000000  0.194228 -0.070332  0.991765\n",
              "SMB_ff  0.914253  0.072170  0.194228  1.000000  0.015418  0.194777\n",
              "HML_ff  0.071141  0.894678 -0.070332  0.015418  1.000000 -0.016280\n",
              "MKT_ff  0.296438 -0.053778  0.991765  0.194777 -0.016280  1.000000"
            ],
            "text/html": [
              "\n",
              "  <div id=\"df-d0d410bf-537e-492e-8efd-346b82e21ff1\">\n",
              "    <div class=\"colab-df-container\">\n",
              "      <div>\n",
              "<style scoped>\n",
              "    .dataframe tbody tr th:only-of-type {\n",
              "        vertical-align: middle;\n",
              "    }\n",
              "\n",
              "    .dataframe tbody tr th {\n",
              "        vertical-align: top;\n",
              "    }\n",
              "\n",
              "    .dataframe thead th {\n",
              "        text-align: right;\n",
              "    }\n",
              "</style>\n",
              "<table border=\"1\" class=\"dataframe\">\n",
              "  <thead>\n",
              "    <tr style=\"text-align: right;\">\n",
              "      <th></th>\n",
              "      <th>smb</th>\n",
              "      <th>hml</th>\n",
              "      <th>mkt</th>\n",
              "      <th>SMB_ff</th>\n",
              "      <th>HML_ff</th>\n",
              "      <th>MKT_ff</th>\n",
              "    </tr>\n",
              "  </thead>\n",
              "  <tbody>\n",
              "    <tr>\n",
              "      <th>smb</th>\n",
              "      <td>1.000000</td>\n",
              "      <td>0.059217</td>\n",
              "      <td>0.288949</td>\n",
              "      <td>0.914253</td>\n",
              "      <td>0.071141</td>\n",
              "      <td>0.296438</td>\n",
              "    </tr>\n",
              "    <tr>\n",
              "      <th>hml</th>\n",
              "      <td>0.059217</td>\n",
              "      <td>1.000000</td>\n",
              "      <td>-0.117748</td>\n",
              "      <td>0.072170</td>\n",
              "      <td>0.894678</td>\n",
              "      <td>-0.053778</td>\n",
              "    </tr>\n",
              "    <tr>\n",
              "      <th>mkt</th>\n",
              "      <td>0.288949</td>\n",
              "      <td>-0.117748</td>\n",
              "      <td>1.000000</td>\n",
              "      <td>0.194228</td>\n",
              "      <td>-0.070332</td>\n",
              "      <td>0.991765</td>\n",
              "    </tr>\n",
              "    <tr>\n",
              "      <th>SMB_ff</th>\n",
              "      <td>0.914253</td>\n",
              "      <td>0.072170</td>\n",
              "      <td>0.194228</td>\n",
              "      <td>1.000000</td>\n",
              "      <td>0.015418</td>\n",
              "      <td>0.194777</td>\n",
              "    </tr>\n",
              "    <tr>\n",
              "      <th>HML_ff</th>\n",
              "      <td>0.071141</td>\n",
              "      <td>0.894678</td>\n",
              "      <td>-0.070332</td>\n",
              "      <td>0.015418</td>\n",
              "      <td>1.000000</td>\n",
              "      <td>-0.016280</td>\n",
              "    </tr>\n",
              "    <tr>\n",
              "      <th>MKT_ff</th>\n",
              "      <td>0.296438</td>\n",
              "      <td>-0.053778</td>\n",
              "      <td>0.991765</td>\n",
              "      <td>0.194777</td>\n",
              "      <td>-0.016280</td>\n",
              "      <td>1.000000</td>\n",
              "    </tr>\n",
              "  </tbody>\n",
              "</table>\n",
              "</div>\n",
              "      <button class=\"colab-df-convert\" onclick=\"convertToInteractive('df-d0d410bf-537e-492e-8efd-346b82e21ff1')\"\n",
              "              title=\"Convert this dataframe to an interactive table.\"\n",
              "              style=\"display:none;\">\n",
              "        \n",
              "  <svg xmlns=\"http://www.w3.org/2000/svg\" height=\"24px\"viewBox=\"0 0 24 24\"\n",
              "       width=\"24px\">\n",
              "    <path d=\"M0 0h24v24H0V0z\" fill=\"none\"/>\n",
              "    <path d=\"M18.56 5.44l.94 2.06.94-2.06 2.06-.94-2.06-.94-.94-2.06-.94 2.06-2.06.94zm-11 1L8.5 8.5l.94-2.06 2.06-.94-2.06-.94L8.5 2.5l-.94 2.06-2.06.94zm10 10l.94 2.06.94-2.06 2.06-.94-2.06-.94-.94-2.06-.94 2.06-2.06.94z\"/><path d=\"M17.41 7.96l-1.37-1.37c-.4-.4-.92-.59-1.43-.59-.52 0-1.04.2-1.43.59L10.3 9.45l-7.72 7.72c-.78.78-.78 2.05 0 2.83L4 21.41c.39.39.9.59 1.41.59.51 0 1.02-.2 1.41-.59l7.78-7.78 2.81-2.81c.8-.78.8-2.07 0-2.86zM5.41 20L4 18.59l7.72-7.72 1.47 1.35L5.41 20z\"/>\n",
              "  </svg>\n",
              "      </button>\n",
              "      \n",
              "  <style>\n",
              "    .colab-df-container {\n",
              "      display:flex;\n",
              "      flex-wrap:wrap;\n",
              "      gap: 12px;\n",
              "    }\n",
              "\n",
              "    .colab-df-convert {\n",
              "      background-color: #E8F0FE;\n",
              "      border: none;\n",
              "      border-radius: 50%;\n",
              "      cursor: pointer;\n",
              "      display: none;\n",
              "      fill: #1967D2;\n",
              "      height: 32px;\n",
              "      padding: 0 0 0 0;\n",
              "      width: 32px;\n",
              "    }\n",
              "\n",
              "    .colab-df-convert:hover {\n",
              "      background-color: #E2EBFA;\n",
              "      box-shadow: 0px 1px 2px rgba(60, 64, 67, 0.3), 0px 1px 3px 1px rgba(60, 64, 67, 0.15);\n",
              "      fill: #174EA6;\n",
              "    }\n",
              "\n",
              "    [theme=dark] .colab-df-convert {\n",
              "      background-color: #3B4455;\n",
              "      fill: #D2E3FC;\n",
              "    }\n",
              "\n",
              "    [theme=dark] .colab-df-convert:hover {\n",
              "      background-color: #434B5C;\n",
              "      box-shadow: 0px 1px 3px 1px rgba(0, 0, 0, 0.15);\n",
              "      filter: drop-shadow(0px 1px 2px rgba(0, 0, 0, 0.3));\n",
              "      fill: #FFFFFF;\n",
              "    }\n",
              "  </style>\n",
              "\n",
              "      <script>\n",
              "        const buttonEl =\n",
              "          document.querySelector('#df-d0d410bf-537e-492e-8efd-346b82e21ff1 button.colab-df-convert');\n",
              "        buttonEl.style.display =\n",
              "          google.colab.kernel.accessAllowed ? 'block' : 'none';\n",
              "\n",
              "        async function convertToInteractive(key) {\n",
              "          const element = document.querySelector('#df-d0d410bf-537e-492e-8efd-346b82e21ff1');\n",
              "          const dataTable =\n",
              "            await google.colab.kernel.invokeFunction('convertToInteractive',\n",
              "                                                     [key], {});\n",
              "          if (!dataTable) return;\n",
              "\n",
              "          const docLinkHtml = 'Like what you see? Visit the ' +\n",
              "            '<a target=\"_blank\" href=https://colab.research.google.com/notebooks/data_table.ipynb>data table notebook</a>'\n",
              "            + ' to learn more about interactive tables.';\n",
              "          element.innerHTML = '';\n",
              "          dataTable['output_type'] = 'display_data';\n",
              "          await google.colab.output.renderOutput(dataTable, element);\n",
              "          const docLink = document.createElement('div');\n",
              "          docLink.innerHTML = docLinkHtml;\n",
              "          element.appendChild(docLink);\n",
              "        }\n",
              "      </script>\n",
              "    </div>\n",
              "  </div>\n",
              "  "
            ]
          },
          "metadata": {},
          "execution_count": 25
        }
      ]
    }
  ]
}